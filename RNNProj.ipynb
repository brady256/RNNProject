{
 "cells": [
  {
   "cell_type": "code",
   "execution_count": 1,
   "metadata": {},
   "outputs": [],
   "source": [
    "import tensorflow as tf\n",
    "from tensorflow import keras\n",
    "import matplotlib as mpl\n",
    "import matplotlib.pyplot as plt\n",
    "import numpy as np\n",
    "import os\n",
    "import pandas as pd\n",
    "\n",
    "mpl.rcParams['figure.figsize'] = (8, 6)\n",
    "mpl.rcParams['axes.grid'] = False"
   ]
  },
  {
   "cell_type": "code",
   "execution_count": 2,
   "metadata": {},
   "outputs": [
    {
     "data": {
      "text/html": [
       "<div>\n",
       "<style scoped>\n",
       "    .dataframe tbody tr th:only-of-type {\n",
       "        vertical-align: middle;\n",
       "    }\n",
       "\n",
       "    .dataframe tbody tr th {\n",
       "        vertical-align: top;\n",
       "    }\n",
       "\n",
       "    .dataframe thead th {\n",
       "        text-align: right;\n",
       "    }\n",
       "</style>\n",
       "<table border=\"1\" class=\"dataframe\">\n",
       "  <thead>\n",
       "    <tr style=\"text-align: right;\">\n",
       "      <th></th>\n",
       "      <th>Date</th>\n",
       "      <th>GDPC1</th>\n",
       "      <th>DGS2Y</th>\n",
       "      <th>DGS5Y</th>\n",
       "      <th>DGS10Y</th>\n",
       "      <th>DGS30Y</th>\n",
       "    </tr>\n",
       "  </thead>\n",
       "  <tbody>\n",
       "    <tr>\n",
       "      <th>0</th>\n",
       "      <td>1947-01-01</td>\n",
       "      <td>2033.061</td>\n",
       "      <td>0.000000</td>\n",
       "      <td>0.000000</td>\n",
       "      <td>0.000000</td>\n",
       "      <td>0.000000</td>\n",
       "    </tr>\n",
       "    <tr>\n",
       "      <th>1</th>\n",
       "      <td>1947-04-01</td>\n",
       "      <td>2027.639</td>\n",
       "      <td>0.000000</td>\n",
       "      <td>0.000000</td>\n",
       "      <td>0.000000</td>\n",
       "      <td>0.000000</td>\n",
       "    </tr>\n",
       "    <tr>\n",
       "      <th>2</th>\n",
       "      <td>1947-07-01</td>\n",
       "      <td>2023.452</td>\n",
       "      <td>0.000000</td>\n",
       "      <td>0.000000</td>\n",
       "      <td>0.000000</td>\n",
       "      <td>0.000000</td>\n",
       "    </tr>\n",
       "    <tr>\n",
       "      <th>3</th>\n",
       "      <td>1947-10-01</td>\n",
       "      <td>2055.103</td>\n",
       "      <td>0.000000</td>\n",
       "      <td>0.000000</td>\n",
       "      <td>0.000000</td>\n",
       "      <td>0.000000</td>\n",
       "    </tr>\n",
       "    <tr>\n",
       "      <th>4</th>\n",
       "      <td>1948-01-01</td>\n",
       "      <td>2086.017</td>\n",
       "      <td>0.000000</td>\n",
       "      <td>0.000000</td>\n",
       "      <td>0.000000</td>\n",
       "      <td>0.000000</td>\n",
       "    </tr>\n",
       "    <tr>\n",
       "      <th>...</th>\n",
       "      <td>...</td>\n",
       "      <td>...</td>\n",
       "      <td>...</td>\n",
       "      <td>...</td>\n",
       "      <td>...</td>\n",
       "      <td>...</td>\n",
       "    </tr>\n",
       "    <tr>\n",
       "      <th>984</th>\n",
       "      <td>2019-10-01</td>\n",
       "      <td>19221.970</td>\n",
       "      <td>1.648000</td>\n",
       "      <td>1.565000</td>\n",
       "      <td>1.699500</td>\n",
       "      <td>2.158000</td>\n",
       "    </tr>\n",
       "    <tr>\n",
       "      <th>985</th>\n",
       "      <td>2019-10-31</td>\n",
       "      <td>19221.970</td>\n",
       "      <td>1.551364</td>\n",
       "      <td>1.525000</td>\n",
       "      <td>1.706818</td>\n",
       "      <td>2.190455</td>\n",
       "    </tr>\n",
       "    <tr>\n",
       "      <th>986</th>\n",
       "      <td>2019-11-30</td>\n",
       "      <td>19221.970</td>\n",
       "      <td>1.612632</td>\n",
       "      <td>1.639474</td>\n",
       "      <td>1.812105</td>\n",
       "      <td>2.280526</td>\n",
       "    </tr>\n",
       "    <tr>\n",
       "      <th>987</th>\n",
       "      <td>2019-12-31</td>\n",
       "      <td>19221.970</td>\n",
       "      <td>1.613333</td>\n",
       "      <td>1.682381</td>\n",
       "      <td>1.862857</td>\n",
       "      <td>2.297619</td>\n",
       "    </tr>\n",
       "    <tr>\n",
       "      <th>988</th>\n",
       "      <td>2020-01-01</td>\n",
       "      <td>18987.877</td>\n",
       "      <td>1.613333</td>\n",
       "      <td>1.682381</td>\n",
       "      <td>1.862857</td>\n",
       "      <td>2.297619</td>\n",
       "    </tr>\n",
       "  </tbody>\n",
       "</table>\n",
       "<p>989 rows × 6 columns</p>\n",
       "</div>"
      ],
      "text/plain": [
       "           Date      GDPC1     DGS2Y     DGS5Y    DGS10Y    DGS30Y\n",
       "0    1947-01-01   2033.061  0.000000  0.000000  0.000000  0.000000\n",
       "1    1947-04-01   2027.639  0.000000  0.000000  0.000000  0.000000\n",
       "2    1947-07-01   2023.452  0.000000  0.000000  0.000000  0.000000\n",
       "3    1947-10-01   2055.103  0.000000  0.000000  0.000000  0.000000\n",
       "4    1948-01-01   2086.017  0.000000  0.000000  0.000000  0.000000\n",
       "..          ...        ...       ...       ...       ...       ...\n",
       "984  2019-10-01  19221.970  1.648000  1.565000  1.699500  2.158000\n",
       "985  2019-10-31  19221.970  1.551364  1.525000  1.706818  2.190455\n",
       "986  2019-11-30  19221.970  1.612632  1.639474  1.812105  2.280526\n",
       "987  2019-12-31  19221.970  1.613333  1.682381  1.862857  2.297619\n",
       "988  2020-01-01  18987.877  1.613333  1.682381  1.862857  2.297619\n",
       "\n",
       "[989 rows x 6 columns]"
      ]
     },
     "execution_count": 2,
     "metadata": {},
     "output_type": "execute_result"
    }
   ],
   "source": [
    "#get gdp data from cleaning notebook\n",
    "df= pd.read_csv('pdout.csv')\n",
    "df= df.loc[:988]\n",
    "#features_considered = ['DGS10Y', 'GDPC1', 'DGS2Y']\n",
    "#features = df[features_considered]\n",
    "#features.index = df['Date']\n",
    "\n",
    "df"
   ]
  },
  {
   "cell_type": "code",
   "execution_count": 3,
   "metadata": {},
   "outputs": [
    {
     "data": {
      "text/plain": [
       "<matplotlib.axes._subplots.AxesSubplot at 0x2091e4b0dc8>"
      ]
     },
     "execution_count": 3,
     "metadata": {},
     "output_type": "execute_result"
    },
    {
     "data": {
      "image/png": "[encoded data removed]",
      "text/plain": [
       "<Figure size 576x432 with 1 Axes>"
      ]
     },
     "metadata": {
      "needs_background": "light"
     },
     "output_type": "display_data"
    }
   ],
   "source": [
    "#Here we take a look at the historical gdp data\n",
    "\n",
    "#A recession is defined as two consecutive quarterly declining gdp values\n",
    "\n",
    "#It is important to note that the date is highly linear\n",
    "#and the dips which conrespond to recessions are very shallow.\n",
    "\n",
    "uni_data = df['GDPC1']\n",
    "uni_data.index = df['Date']\n",
    "\n",
    "uni_data.plot()"
   ]
  },
  {
   "cell_type": "code",
   "execution_count": 4,
   "metadata": {},
   "outputs": [],
   "source": [
    "#Put gdp into an array\n",
    "uni_data = uni_data.values"
   ]
  },
  {
   "cell_type": "code",
   "execution_count": 5,
   "metadata": {},
   "outputs": [],
   "source": [
    "#Standardize and use ~90% of data for training\n",
    "TRAIN_SPLIT = 880\n",
    "uni_train_mean = uni_data[:TRAIN_SPLIT].mean()\n",
    "uni_train_std = uni_data[:TRAIN_SPLIT].std()\n",
    "uni_data = (uni_data-uni_train_mean)/uni_train_std\n",
    "#uni_data"
   ]
  },
  {
   "cell_type": "code",
   "execution_count": 6,
   "metadata": {},
   "outputs": [],
   "source": [
    "##Data is windowed to create multiple time series from one time series\n",
    "\n",
    "def univariate_data(dataset, start_index, end_index, history_size, target_size):\n",
    "  data = []\n",
    "  labels = []\n",
    "\n",
    "  start_index = start_index + history_size\n",
    "  if end_index is None:\n",
    "    end_index = len(dataset) - target_size\n",
    "\n",
    "  for i in range(start_index, end_index):\n",
    "    indices = range(i-history_size, i)\n",
    "    # Reshape data from (history_size,) to (history_size, 1)\n",
    "    data.append(np.reshape(dataset[indices], (history_size, 1)))\n",
    "    labels.append(dataset[i+target_size])\n",
    "  return np.array(data), np.array(labels)\n"
   ]
  },
  {
   "cell_type": "code",
   "execution_count": 7,
   "metadata": {},
   "outputs": [],
   "source": [
    "#At this time the ast history size is chosen so as to reduce validation error\n",
    "\n",
    "tf.random.set_seed(7)\n",
    "\n",
    "univariate_past_history = 24\n",
    "univariate_future_target = 0\n",
    "\n",
    "\n",
    "x_train_uni, y_train_uni = univariate_data(uni_data, 0, TRAIN_SPLIT,\n",
    "                                           univariate_past_history,\n",
    "                                           univariate_future_target)\n",
    "x_val_uni, y_val_uni = univariate_data(uni_data, TRAIN_SPLIT, None,\n",
    "                                       univariate_past_history,\n",
    "                                       univariate_future_target)\n",
    "\n",
    "#y_train_uni"
   ]
  },
  {
   "cell_type": "code",
   "execution_count": 8,
   "metadata": {},
   "outputs": [],
   "source": [
    "#This is the first window\n",
    "# print ('Single window of past history')\n",
    "# print (x_train_uni[0])\n",
    "# print ('\\n Target gdp to predict')\n",
    "# print (y_train_uni[0])"
   ]
  },
  {
   "cell_type": "code",
   "execution_count": 9,
   "metadata": {},
   "outputs": [],
   "source": [
    "#The below functions will plot a window and show the value to predict\n",
    "\n",
    "def create_time_steps(length):\n",
    "  return list(range(-length, 0))"
   ]
  },
  {
   "cell_type": "code",
   "execution_count": 10,
   "metadata": {},
   "outputs": [],
   "source": [
    "def show_plot(plot_data, delta, title):\n",
    "  labels = ['History', 'True Future', 'Model Prediction']\n",
    "  marker = ['.-', 'rx', 'go']\n",
    "  time_steps = create_time_steps(plot_data[0].shape[0])\n",
    "  if delta:\n",
    "    future = delta\n",
    "  else:\n",
    "    future = 0\n",
    "\n",
    "  plt.title(title)\n",
    "  for i, x in enumerate(plot_data):\n",
    "    if i:\n",
    "      plt.plot(future, plot_data[i], marker[i], markersize=10,\n",
    "               label=labels[i])\n",
    "    else:\n",
    "      plt.plot(time_steps, plot_data[i].flatten(), marker[i], label=labels[i])\n",
    "  plt.legend()\n",
    "  plt.xlim([time_steps[0], (future+5)*2])\n",
    "  plt.xlabel('Time-Step')\n",
    "  return plt"
   ]
  },
  {
   "cell_type": "code",
   "execution_count": 11,
   "metadata": {},
   "outputs": [
    {
     "data": {
      "text/plain": [
       "Text(0, 0.5, ' Standardized GDP')"
      ]
     },
     "execution_count": 11,
     "metadata": {},
     "output_type": "execute_result"
    },
    {
     "data": {
      "image/png": "[encoded data removed]",
      "text/plain": [
       "<Figure size 576x432 with 1 Axes>"
      ]
     },
     "metadata": {
      "needs_background": "light"
     },
     "output_type": "display_data"
    }
   ],
   "source": [
    "show_plot([x_train_uni[0], y_train_uni[0]], 0, 'First Time Window')\n",
    "plt.ylabel(' Standardized GDP')"
   ]
  },
  {
   "cell_type": "code",
   "execution_count": 12,
   "metadata": {},
   "outputs": [
    {
     "data": {
      "text/plain": [
       "0.048334774386389105"
      ]
     },
     "execution_count": 12,
     "metadata": {},
     "output_type": "execute_result"
    }
   ],
   "source": [
    "#As a baseline comparison I consider a naive prediction of the\n",
    "#previous value as the next value\n",
    "y_pred= x_val_uni[:, -1]\n",
    "np.mean(keras.losses.mean_squared_error(y_val_uni, y_pred))\n",
    "\n",
    "#This gives a mse of "
   ]
  },
  {
   "cell_type": "code",
   "execution_count": 13,
   "metadata": {},
   "outputs": [],
   "source": [
    "#This should help with training speed\n",
    "BATCH_SIZE = 256\n",
    "BUFFER_SIZE = 10000\n",
    "\n",
    "train_univariate = tf.data.Dataset.from_tensor_slices((x_train_uni, y_train_uni))\n",
    "train_univariate = train_univariate.cache().shuffle(BUFFER_SIZE).batch(BATCH_SIZE).repeat()\n",
    "\n",
    "val_univariate = tf.data.Dataset.from_tensor_slices((x_val_uni, y_val_uni))\n",
    "val_univariate = val_univariate.batch(BATCH_SIZE).repeat()"
   ]
  },
  {
   "cell_type": "code",
   "execution_count": 14,
   "metadata": {},
   "outputs": [],
   "source": [
    "#First try a simple RNN\n",
    "model = keras.models.Sequential([\n",
    "  keras.layers.SimpleRNN(1, input_shape=[None, 1])\n",
    "])\n",
    "\n",
    "model.compile(optimizer= 'adam', loss= 'mae')\n"
   ]
  },
  {
   "cell_type": "code",
   "execution_count": 15,
   "metadata": {
    "scrolled": true
   },
   "outputs": [
    {
     "name": "stdout",
     "output_type": "stream",
     "text": [
      "Epoch 1/10\n",
      "500/500 [==============================] - 4s 8ms/step - loss: 1.6916 - val_loss: 3.2235\n",
      "Epoch 2/10\n",
      "500/500 [==============================] - 4s 8ms/step - loss: 1.2543 - val_loss: 2.4217\n",
      "Epoch 3/10\n",
      "500/500 [==============================] - 4s 7ms/step - loss: 0.5876 - val_loss: 1.3142\n",
      "Epoch 4/10\n",
      "500/500 [==============================] - 4s 7ms/step - loss: 0.2392 - val_loss: 1.2698\n",
      "Epoch 5/10\n",
      "500/500 [==============================] - 4s 7ms/step - loss: 0.2285 - val_loss: 1.2643\n",
      "Epoch 6/10\n",
      "500/500 [==============================] - 4s 7ms/step - loss: 0.2232 - val_loss: 1.2595\n",
      "Epoch 7/10\n",
      "500/500 [==============================] - 4s 7ms/step - loss: 0.2179 - val_loss: 1.2553\n",
      "Epoch 8/10\n",
      "500/500 [==============================] - 4s 7ms/step - loss: 0.2128 - val_loss: 1.2516\n",
      "Epoch 9/10\n",
      "500/500 [==============================] - 4s 8ms/step - loss: 0.2079 - val_loss: 1.2486\n",
      "Epoch 10/10\n",
      "500/500 [==============================] - 4s 7ms/step - loss: 0.2033 - val_loss: 1.2462\n"
     ]
    },
    {
     "data": {
      "text/plain": [
       "<tensorflow.python.keras.callbacks.History at 0x20920a28108>"
      ]
     },
     "execution_count": 15,
     "metadata": {},
     "output_type": "execute_result"
    }
   ],
   "source": [
    "EVALUATION_INTERVAL = 500\n",
    "EPOCHS = 10\n",
    "\n",
    "model.fit(train_univariate, epochs=EPOCHS,\n",
    "                      steps_per_epoch=EVALUATION_INTERVAL,\n",
    "                      validation_data=val_univariate, validation_steps=500)"
   ]
  },
  {
   "cell_type": "code",
   "execution_count": 19,
   "metadata": {},
   "outputs": [
    {
     "data": {
      "image/png": "[encoded data removed]",
      "text/plain": [
       "<Figure size 576x432 with 1 Axes>"
      ]
     },
     "metadata": {
      "needs_background": "light"
     },
     "output_type": "display_data"
    }
   ],
   "source": [
    "#This is not very good\n",
    "#Could try more training or playing with val interval, epochs\n",
    "\n",
    "for x, y in val_univariate.take(1):\n",
    "  plot = show_plot([x[0].numpy(), y[0].numpy(),\n",
    "                    model.predict(x)[0]], 0, 'Simple LSTM model')\n",
    "  plot.show()"
   ]
  },
  {
   "cell_type": "code",
   "execution_count": 20,
   "metadata": {},
   "outputs": [],
   "source": [
    "#This doesn't work yet\n",
    "# def last_time_step_mse(Y_true, Y_pred):\n",
    "#     return keras.metrics.mean_squared_error(Y_true[:, -1], Y_pred[:, -1])\n",
    "\n",
    "# optimizer = keras.optimizers.Adam(lr=0.01)\n",
    "\n",
    "# y_train_uni.shape"
   ]
  },
  {
   "cell_type": "code",
   "execution_count": 21,
   "metadata": {},
   "outputs": [],
   "source": [
    "# model = keras.models.Sequential([\n",
    "#     keras.layers.Conv1D(filters=20, kernel_size=4, strides=2, padding=\"valid\",\n",
    "#                         input_shape=[None, 1]),\n",
    "#     keras.layers.GRU(20, return_sequences=True),\n",
    "#     keras.layers.GRU(20, return_sequences=True),\n",
    "#     keras.layers.TimeDistributed(keras.layers.Dense(10))\n",
    "# ])\n",
    "\n",
    "# model.compile(loss=\"mse\", optimizer=\"adam\", metrics=[last_time_step_mse])\n",
    "\n",
    "# model.fit(x_train_uni, y_train_uni[:, 3::2], epochs=20,\n",
    "#                     validation_data=(x_val_uni, y_val_uni[:, 3::2]))"
   ]
  },
  {
   "cell_type": "code",
   "execution_count": 22,
   "metadata": {},
   "outputs": [],
   "source": [
    "#Here we try a simply LSTM model\n",
    "\n",
    "simple_lstm_model = tf.keras.models.Sequential([\n",
    "    tf.keras.layers.LSTM(8, input_shape=x_train_uni.shape[-2:]),\n",
    "    tf.keras.layers.Dense(1)\n",
    "])\n",
    "\n",
    "simple_lstm_model.compile(optimizer='adam', loss='mae')\n"
   ]
  },
  {
   "cell_type": "code",
   "execution_count": 23,
   "metadata": {},
   "outputs": [
    {
     "name": "stdout",
     "output_type": "stream",
     "text": [
      "Epoch 1/20\n",
      "200/200 [==============================] - 3s 13ms/step - loss: 0.3375 - val_loss: 0.7650\n",
      "Epoch 2/20\n",
      "200/200 [==============================] - 2s 12ms/step - loss: 0.0191 - val_loss: 0.3252\n",
      "Epoch 3/20\n",
      "200/200 [==============================] - 2s 11ms/step - loss: 0.0123 - val_loss: 0.2648\n",
      "Epoch 4/20\n",
      "200/200 [==============================] - 2s 11ms/step - loss: 0.0114 - val_loss: 0.2198\n",
      "Epoch 5/20\n",
      "200/200 [==============================] - 2s 11ms/step - loss: 0.0108 - val_loss: 0.1836\n",
      "Epoch 6/20\n",
      "200/200 [==============================] - 2s 11ms/step - loss: 0.0102 - val_loss: 0.1608\n",
      "Epoch 7/20\n",
      "200/200 [==============================] - 2s 12ms/step - loss: 0.0098 - val_loss: 0.1450\n",
      "Epoch 8/20\n",
      "200/200 [==============================] - 2s 11ms/step - loss: 0.0095 - val_loss: 0.1288\n",
      "Epoch 9/20\n",
      "200/200 [==============================] - 2s 12ms/step - loss: 0.0092 - val_loss: 0.1167\n",
      "Epoch 10/20\n",
      "200/200 [==============================] - 2s 11ms/step - loss: 0.0089 - val_loss: 0.1064\n",
      "Epoch 11/20\n",
      "200/200 [==============================] - 2s 12ms/step - loss: 0.0087 - val_loss: 0.1035\n",
      "Epoch 12/20\n",
      "200/200 [==============================] - 2s 11ms/step - loss: 0.0084 - val_loss: 0.0972\n",
      "Epoch 13/20\n",
      "200/200 [==============================] - 2s 11ms/step - loss: 0.0082 - val_loss: 0.0930\n",
      "Epoch 14/20\n",
      "200/200 [==============================] - 2s 11ms/step - loss: 0.0081 - val_loss: 0.0967\n",
      "Epoch 15/20\n",
      "200/200 [==============================] - 2s 11ms/step - loss: 0.0079 - val_loss: 0.0966\n",
      "Epoch 16/20\n",
      "200/200 [==============================] - 2s 11ms/step - loss: 0.0078 - val_loss: 0.0873\n",
      "Epoch 17/20\n",
      "200/200 [==============================] - 2s 12ms/step - loss: 0.0077 - val_loss: 0.0858\n",
      "Epoch 18/20\n",
      "200/200 [==============================] - 2s 11ms/step - loss: 0.0077 - val_loss: 0.0871\n",
      "Epoch 19/20\n",
      "200/200 [==============================] - 2s 11ms/step - loss: 0.0076 - val_loss: 0.0846\n",
      "Epoch 20/20\n",
      "200/200 [==============================] - 2s 11ms/step - loss: 0.0074 - val_loss: 0.0778\n"
     ]
    },
    {
     "data": {
      "text/plain": [
       "<tensorflow.python.keras.callbacks.History at 0x20923029348>"
      ]
     },
     "execution_count": 23,
     "metadata": {},
     "output_type": "execute_result"
    }
   ],
   "source": [
    "#This cell can be rerun multiple times to further train the model\n",
    "EVALUATION_INTERVAL = 200\n",
    "EPOCHS = 20\n",
    "\n",
    "simple_lstm_model.fit(train_univariate, epochs=EPOCHS,\n",
    "                      steps_per_epoch=EVALUATION_INTERVAL,\n",
    "                      validation_data=val_univariate, validation_steps=50)"
   ]
  },
  {
   "cell_type": "code",
   "execution_count": 24,
   "metadata": {},
   "outputs": [
    {
     "data": {
      "image/png": "[encoded data removed]",
      "text/plain": [
       "<Figure size 576x432 with 1 Axes>"
      ]
     },
     "metadata": {
      "needs_background": "light"
     },
     "output_type": "display_data"
    }
   ],
   "source": [
    "#This is a reasonable prediction and can imporove with more training\n",
    "for x, y in val_univariate.take(1):\n",
    "  plot = show_plot([x[0].numpy(), y[0].numpy(),\n",
    "                    simple_lstm_model.predict(x)[0]], 0, 'Simple LSTM model')\n",
    "  plot.show()\n"
   ]
  },
  {
   "cell_type": "code",
   "execution_count": 25,
   "metadata": {},
   "outputs": [
    {
     "data": {
      "text/plain": [
       "array([[1.9610645],\n",
       "       [1.9714259],\n",
       "       [1.9777178],\n",
       "       [1.9814259],\n",
       "       [1.9834627],\n",
       "       [1.9948577],\n",
       "       [2.0021384],\n",
       "       [2.0067368],\n",
       "       [2.00957  ],\n",
       "       [2.0207644],\n",
       "       [2.0280552],\n",
       "       [2.0326948],\n",
       "       [2.0355914],\n",
       "       [2.0414307],\n",
       "       [2.045148 ],\n",
       "       [2.0474012],\n",
       "       [2.048715 ],\n",
       "       [2.049794 ],\n",
       "       [2.050343 ],\n",
       "       [2.050558 ],\n",
       "       [2.050584 ],\n",
       "       [2.0567496],\n",
       "       [2.0609992],\n",
       "       [2.0638254],\n",
       "       [2.0657177],\n",
       "       [2.0726273],\n",
       "       [2.0773413],\n",
       "       [2.0804129],\n",
       "       [2.0824082],\n",
       "       [2.0900624],\n",
       "       [2.095298 ],\n",
       "       [2.0986953],\n",
       "       [2.1009085],\n",
       "       [2.108084 ],\n",
       "       [2.113009 ],\n",
       "       [2.1161892],\n",
       "       [2.1182578],\n",
       "       [2.1259198],\n",
       "       [2.1312525],\n",
       "       [2.1347182],\n",
       "       [2.1370075],\n",
       "       [2.1443043],\n",
       "       [2.1494205],\n",
       "       [2.1527426],\n",
       "       [2.1549435],\n",
       "       [2.1647317],\n",
       "       [2.1717343],\n",
       "       [2.1763237],\n",
       "       [2.1794353],\n",
       "       [2.1903546],\n",
       "       [2.198235 ],\n",
       "       [2.2033865],\n",
       "       [2.2068927],\n",
       "       [2.21532  ],\n",
       "       [2.2214205],\n",
       "       [2.2253802],\n",
       "       [2.2280586],\n",
       "       [2.2378576],\n",
       "       [2.2451603],\n",
       "       [2.2499244],\n",
       "       [2.2532272],\n",
       "       [2.2618287],\n",
       "       [2.2682912],\n",
       "       [2.272504 ],\n",
       "       [2.2754278],\n",
       "       [2.2796896],\n",
       "       [2.282824 ],\n",
       "       [2.2848547],\n",
       "       [2.28623  ],\n",
       "       [2.2934086],\n",
       "       [2.2990792],\n",
       "       [2.3027678],\n",
       "       [2.3053985],\n",
       "       [2.3111365],\n",
       "       [2.31561  ],\n",
       "       [2.3185346],\n",
       "       [2.3206   ],\n",
       "       [2.3259485],\n",
       "       [2.3302062],\n",
       "       [2.3329718],\n",
       "       [2.3349411],\n",
       "       [2.3401225],\n",
       "       [2.3443093],\n",
       "       [2.3470242],\n",
       "       [2.3489692]], dtype=float32)"
      ]
     },
     "execution_count": 25,
     "metadata": {},
     "output_type": "execute_result"
    }
   ],
   "source": [
    "#If you look at the data below you will see that there is no value that is lower than the previous value\n",
    "#So it seems like the model is not able to predict the small dips at any time that would define a recession.\n",
    "\n",
    "simple_lstm_model.predict(x)"
   ]
  },
  {
   "cell_type": "markdown",
   "metadata": {},
   "source": [
    "##Multivariate Forecast"
   ]
  },
  {
   "cell_type": "code",
   "execution_count": 26,
   "metadata": {},
   "outputs": [],
   "source": [
    "#Here we will consider the historical gdp along with the 2 and 10 year federal funds rate\n",
    "features_considered = ['DGS10Y', 'GDPC1', 'DGS2Y']"
   ]
  },
  {
   "cell_type": "code",
   "execution_count": 27,
   "metadata": {},
   "outputs": [],
   "source": [
    "features = df[features_considered]\n",
    "features.index = df['Date']\n",
    "\n",
    "#Values before 1977 are dropped since some rates only go back that far\n",
    "features= features.loc['1977-01-01 00:00:00':'2020-01-01 00:00:00']\n",
    "#features"
   ]
  },
  {
   "cell_type": "code",
   "execution_count": 28,
   "metadata": {},
   "outputs": [
    {
     "data": {
      "text/plain": [
       "array([<matplotlib.axes._subplots.AxesSubplot object at 0x000002092756B2C8>,\n",
       "       <matplotlib.axes._subplots.AxesSubplot object at 0x0000020927597D48>,\n",
       "       <matplotlib.axes._subplots.AxesSubplot object at 0x00000209275C5708>],\n",
       "      dtype=object)"
      ]
     },
     "execution_count": 28,
     "metadata": {},
     "output_type": "execute_result"
    },
    {
     "data": {
      "image/png": "[encoded data removed]",
      "text/plain": [
       "<Figure size 576x432 with 3 Axes>"
      ]
     },
     "metadata": {
      "needs_background": "light"
     },
     "output_type": "display_data"
    }
   ],
   "source": [
    "#Here we can look at our selected features\n",
    "features.plot(subplots=True)"
   ]
  },
  {
   "cell_type": "code",
   "execution_count": 29,
   "metadata": {},
   "outputs": [],
   "source": [
    "#First we try to predict a single point in the future using our three features\n",
    "\n",
    "def multivariate_data(dataset, target, start_index, end_index, history_size,\n",
    "                      target_size, step, single_step=False):\n",
    "  data = []\n",
    "  labels = []\n",
    "\n",
    "  start_index = start_index + history_size\n",
    "  if end_index is None:\n",
    "    end_index = len(dataset) - target_size\n",
    "\n",
    "  for i in range(start_index, end_index):\n",
    "    indices = range(i-history_size, i, step)\n",
    "    data.append(dataset[indices])\n",
    "\n",
    "    if single_step:\n",
    "      labels.append(target[i+target_size])\n",
    "    else:\n",
    "      labels.append(target[i:i+target_size])\n",
    "\n",
    "  return np.array(data), np.array(labels)"
   ]
  },
  {
   "cell_type": "code",
   "execution_count": 30,
   "metadata": {},
   "outputs": [
    {
     "data": {
      "text/plain": [
       "(688, 3)"
      ]
     },
     "execution_count": 30,
     "metadata": {},
     "output_type": "execute_result"
    }
   ],
   "source": [
    "TRAIN_SPLIT= 550\n",
    "dataset = features.values\n",
    "data_mean = dataset[:TRAIN_SPLIT].mean(axis=0)\n",
    "data_std = dataset[:TRAIN_SPLIT].std(axis=0)\n",
    "\n",
    "dataset = (dataset-data_mean)/data_std\n",
    "dataset.shape"
   ]
  },
  {
   "cell_type": "code",
   "execution_count": 31,
   "metadata": {},
   "outputs": [],
   "source": [
    "past_history = 60\n",
    "future_target = 8\n",
    "STEP = 1\n",
    "\n",
    "x_train_single, y_train_single = multivariate_data(dataset, dataset[:, 1], 0,\n",
    "                                                   TRAIN_SPLIT, past_history,\n",
    "                                                   future_target, STEP,\n",
    "                                                   single_step=True)\n",
    "x_val_single, y_val_single = multivariate_data(dataset, dataset[:, 1],\n",
    "                                               TRAIN_SPLIT, None, past_history,\n",
    "                                               future_target, STEP,\n",
    "                                               single_step=True)\n",
    "\n",
    "\n",
    "#x_val_single"
   ]
  },
  {
   "cell_type": "code",
   "execution_count": 32,
   "metadata": {},
   "outputs": [],
   "source": [
    "train_data_single = tf.data.Dataset.from_tensor_slices((x_train_single, y_train_single))\n",
    "train_data_single = train_data_single.cache().shuffle(BUFFER_SIZE).batch(BATCH_SIZE).repeat()\n",
    "\n",
    "val_data_single = tf.data.Dataset.from_tensor_slices((x_val_single, y_val_single))\n",
    "val_data_single = val_data_single.batch(BATCH_SIZE).repeat()"
   ]
  },
  {
   "cell_type": "code",
   "execution_count": 33,
   "metadata": {},
   "outputs": [],
   "source": [
    "\n",
    "#Here we define our model\n",
    "single_step_model = tf.keras.models.Sequential()\n",
    "single_step_model.add(tf.keras.layers.LSTM(32,\n",
    "                                           input_shape=x_train_single.shape[-2:]))\n",
    "single_step_model.add(tf.keras.layers.Dense(1))\n",
    "\n",
    "single_step_model.compile(optimizer=tf.keras.optimizers.RMSprop(), loss='mae')\n"
   ]
  },
  {
   "cell_type": "code",
   "execution_count": 34,
   "metadata": {},
   "outputs": [
    {
     "name": "stdout",
     "output_type": "stream",
     "text": [
      "Epoch 1/10\n",
      "200/200 [==============================] - 10s 52ms/step - loss: 0.0838 - val_loss: 0.5884\n",
      "Epoch 2/10\n",
      "200/200 [==============================] - 10s 51ms/step - loss: 0.0332 - val_loss: 0.5746\n",
      "Epoch 3/10\n",
      "200/200 [==============================] - 11s 54ms/step - loss: 0.0273 - val_loss: 0.5731\n",
      "Epoch 4/10\n",
      "200/200 [==============================] - 10s 52ms/step - loss: 0.0241 - val_loss: 0.5316\n",
      "Epoch 5/10\n",
      "200/200 [==============================] - 10s 51ms/step - loss: 0.0225 - val_loss: 0.5680\n",
      "Epoch 6/10\n",
      "200/200 [==============================] - 11s 53ms/step - loss: 0.0209 - val_loss: 0.5075\n",
      "Epoch 7/10\n",
      "200/200 [==============================] - 11s 53ms/step - loss: 0.0200 - val_loss: 0.5185\n",
      "Epoch 8/10\n",
      "200/200 [==============================] - 10s 52ms/step - loss: 0.0191 - val_loss: 0.4998\n",
      "Epoch 9/10\n",
      "200/200 [==============================] - 10s 52ms/step - loss: 0.0183 - val_loss: 0.5482\n",
      "Epoch 10/10\n",
      "200/200 [==============================] - 10s 52ms/step - loss: 0.0177 - val_loss: 0.5421\n"
     ]
    }
   ],
   "source": [
    "EVALUATION_INTERVAL = 200\n",
    "EPOCHS = 10\n",
    "\n",
    "single_step_history = single_step_model.fit(train_data_single, epochs=EPOCHS,\n",
    "                                            steps_per_epoch=EVALUATION_INTERVAL,\n",
    "                                            validation_data=val_data_single,\n",
    "                                            validation_steps=50)"
   ]
  },
  {
   "cell_type": "code",
   "execution_count": 35,
   "metadata": {},
   "outputs": [],
   "source": [
    "def plot_train_history(history, title):\n",
    "  loss = history.history['loss']\n",
    "  val_loss = history.history['val_loss']\n",
    "\n",
    "  epochs = range(len(loss))\n",
    "\n",
    "  plt.figure()\n",
    "\n",
    "  plt.plot(epochs, loss, 'b', label='Training loss')\n",
    "  plt.plot(epochs, val_loss, 'r', label='Validation loss')\n",
    "  plt.title(title)\n",
    "  plt.legend()\n",
    "\n",
    "  plt.show()"
   ]
  },
  {
   "cell_type": "code",
   "execution_count": 36,
   "metadata": {},
   "outputs": [
    {
     "data": {
      "image/png": "[encoded data removed]",
      "text/plain": [
       "<Figure size 576x432 with 1 Axes>"
      ]
     },
     "metadata": {
      "needs_background": "light"
     },
     "output_type": "display_data"
    }
   ],
   "source": [
    "#The validaton loss is increasing which probably means we are overfitting\n",
    "#but nevertheless we are predicting far from the correct value\n",
    "plot_train_history(single_step_history,\n",
    "                   'Single Step Training and validation loss')"
   ]
  },
  {
   "cell_type": "code",
   "execution_count": 37,
   "metadata": {},
   "outputs": [
    {
     "data": {
      "image/png": "[encoded data removed]",
      "text/plain": [
       "<Figure size 576x432 with 1 Axes>"
      ]
     },
     "metadata": {
      "needs_background": "light"
     },
     "output_type": "display_data"
    }
   ],
   "source": [
    "for x, y in val_data_single.take(1):\n",
    "  plot = show_plot([x[0][:, 1].numpy(), y[0].numpy(),\n",
    "                    single_step_model.predict(x)[0]], 12,\n",
    "                   'Single Step Prediction')\n",
    "  plot.show()"
   ]
  },
  {
   "cell_type": "code",
   "execution_count": 38,
   "metadata": {},
   "outputs": [],
   "source": [
    "#Now we will attempt to predict 8 consecutive steps in the future\n",
    "future_target = 8\n",
    "x_train_multi, y_train_multi = multivariate_data(dataset, dataset[:, 1], 0,\n",
    "                                                 TRAIN_SPLIT, past_history,\n",
    "                                                 future_target, STEP)\n",
    "x_val_multi, y_val_multi = multivariate_data(dataset, dataset[:, 1],\n",
    "                                             TRAIN_SPLIT, None, past_history,\n",
    "                                             future_target, STEP)"
   ]
  },
  {
   "cell_type": "code",
   "execution_count": 39,
   "metadata": {},
   "outputs": [],
   "source": [
    "train_data_multi = tf.data.Dataset.from_tensor_slices((x_train_multi, y_train_multi))\n",
    "train_data_multi = train_data_multi.cache().shuffle(BUFFER_SIZE).batch(BATCH_SIZE).repeat()\n",
    "\n",
    "val_data_multi = tf.data.Dataset.from_tensor_slices((x_val_multi, y_val_multi))\n",
    "val_data_multi = val_data_multi.batch(BATCH_SIZE).repeat()"
   ]
  },
  {
   "cell_type": "code",
   "execution_count": 40,
   "metadata": {},
   "outputs": [],
   "source": [
    "def multi_step_plot(history, true_future, prediction):\n",
    "  plt.figure(figsize=(12, 6))\n",
    "  num_in = create_time_steps(len(history))\n",
    "  num_out = len(true_future)\n",
    "\n",
    "  plt.plot(num_in, np.array(history[:, 1]), label='History')\n",
    "  plt.plot(np.arange(num_out)/STEP, np.array(true_future), 'bo',\n",
    "           label='True Future')\n",
    "  if prediction.any():\n",
    "    plt.plot(np.arange(num_out)/STEP, np.array(prediction), 'ro',\n",
    "             label='Predicted Future')\n",
    "  plt.legend(loc='upper left')\n",
    "  plt.show()"
   ]
  },
  {
   "cell_type": "code",
   "execution_count": 41,
   "metadata": {
    "scrolled": true
   },
   "outputs": [
    {
     "data": {
      "image/png": "[encoded data removed]",
      "text/plain": [
       "<Figure size 864x432 with 1 Axes>"
      ]
     },
     "metadata": {
      "needs_background": "light"
     },
     "output_type": "display_data"
    }
   ],
   "source": [
    "#I want to predict these values\n",
    "for x, y in train_data_multi.take(1):\n",
    "  multi_step_plot(x[0], y[0], np.array([0]))"
   ]
  },
  {
   "cell_type": "code",
   "execution_count": 42,
   "metadata": {},
   "outputs": [],
   "source": [
    "multi_step_model = tf.keras.models.Sequential()\n",
    "multi_step_model.add(tf.keras.layers.LSTM(32,\n",
    "                                          return_sequences=True,\n",
    "                                          input_shape=x_train_multi.shape[-2:]))\n",
    "multi_step_model.add(tf.keras.layers.LSTM(16, activation='relu'))\n",
    "multi_step_model.add(tf.keras.layers.Dense(8))\n",
    "\n",
    "multi_step_model.compile(optimizer=tf.keras.optimizers.RMSprop(clipvalue=1.0), loss='mae')"
   ]
  },
  {
   "cell_type": "code",
   "execution_count": null,
   "metadata": {},
   "outputs": [
    {
     "name": "stdout",
     "output_type": "stream",
     "text": [
      "Epoch 1/20\n",
      "100/100 [==============================] - ETA: 0s - loss: 0.2396"
     ]
    }
   ],
   "source": [
    "EPOCHS= 20\n",
    "EVALUATION_INTERVAL= 100\n",
    "\n",
    "multi_step_history = multi_step_model.fit(train_data_multi, epochs=EPOCHS,\n",
    "                                          steps_per_epoch=EVALUATION_INTERVAL,\n",
    "                                          validation_data=val_data_multi,\n",
    "                                          validation_steps=50)"
   ]
  },
  {
   "cell_type": "code",
   "execution_count": null,
   "metadata": {},
   "outputs": [],
   "source": [
    "#Val loss increasing\n",
    "plot_train_history(multi_step_history, 'Multi-Step Training and validation loss')"
   ]
  },
  {
   "cell_type": "code",
   "execution_count": null,
   "metadata": {},
   "outputs": [],
   "source": [
    "#Now this appears to be more accurate i some cases and not so accurate in others, \n",
    "#also there are some dips being predicted\n",
    "#but I probably won't have time to include it in the results.\n",
    "\n",
    "#Here we can see the prediction values\n",
    "for x, y in val_data_multi.take(1):\n",
    "  multi_step_plot(x[47], y[47], multi_step_model.predict(x)[47])"
   ]
  },
  {
   "cell_type": "code",
   "execution_count": null,
   "metadata": {},
   "outputs": [],
   "source": [
    "#Looking at some different window predictions, it seems like there are some recessions predicted\n",
    "#however, at the moment there is no credibility attributed to the predictions\n",
    "multi_step_model.predict(x)[47]"
   ]
  },
  {
   "cell_type": "code",
   "execution_count": null,
   "metadata": {},
   "outputs": [],
   "source": []
  }
 ],
 "metadata": {
  "kernelspec": {
   "display_name": "Python 3",
   "language": "python",
   "name": "python3"
  },
  "language_info": {
   "codemirror_mode": {
    "name": "ipython",
    "version": 3
   },
   "file_extension": ".py",
   "mimetype": "text/x-python",
   "name": "python",
   "nbconvert_exporter": "python",
   "pygments_lexer": "ipython3",
   "version": "3.7.7"
  }
 },
 "nbformat": 4,
 "nbformat_minor": 4
}
